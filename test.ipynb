{
 "cells": [
  {
   "cell_type": "code",
   "execution_count": null,
   "metadata": {},
   "outputs": [],
   "source": [
    "import numpy as np\n",
    "\n",
    "def generate_q_states(start_index, end_index, window_size):\n",
    "    q_states = []    \n",
    "    q_states.append(start_index) # append start index\n",
    "\n",
    "    a = start_index[0]\n",
    "    b = start_index[1]\n",
    "    c = start_index[2]\n",
    "\n",
    "    while a <= end_index[0]:\n",
    "        b = start_index[1]\n",
    "        while b + window_size < end_index[1]:\n",
    "            c = start_index[2]\n",
    "            while c + window_size < end_index[2]:\n",
    "                c = c + window_size   \n",
    "                # q_states = np.append(q_states, [a, b, c])\n",
    "                q_states.append([a, b, c])    \n",
    "            b = b + window_size\n",
    "        a = a + 1\n",
    "    \n",
    "    return q_states\n",
    "\n",
    "# [0, 590 - 800, 1260 - 1500], [1, 590, 1260], 40\n",
    "start_index = [0, -210, -240] #[0, 0, 0]\n",
    "end_index = [1, 590, 1260] #[1, 800, 1500]\n",
    "window_size = 40\n",
    "\n",
    "indexes = generate_q_states(start_index, end_index, window_size)\n",
    "print(indexes)\n",
    "\n",
    "for index in indexes:\n",
    "    print(index)\n"
   ]
  }
 ],
 "metadata": {
  "kernelspec": {
   "display_name": "Python 3",
   "language": "python",
   "name": "python3"
  },
  "language_info": {
   "codemirror_mode": {
    "name": "ipython",
    "version": 3
   },
   "file_extension": ".py",
   "mimetype": "text/x-python",
   "name": "python",
   "nbconvert_exporter": "python",
   "pygments_lexer": "ipython3",
   "version": "3.9.13"
  },
  "orig_nbformat": 4
 },
 "nbformat": 4,
 "nbformat_minor": 2
}
